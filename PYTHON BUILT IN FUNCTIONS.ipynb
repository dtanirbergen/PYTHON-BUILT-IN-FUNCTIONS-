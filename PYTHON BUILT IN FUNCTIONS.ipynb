{
 "cells": [
  {
   "cell_type": "markdown",
   "id": "92c12c5b-726a-4061-9f13-f138dce201b4",
   "metadata": {},
   "source": [
    "PYTHON BUILT IN FUNCTIONS"
   ]
  },
  {
   "cell_type": "markdown",
   "id": "3221109b-b887-4b4a-a7db-f6551e66d0cb",
   "metadata": {},
   "source": [
    "abs() — абсолютное значение  \r\n",
    "all() — все элементы истинны  \r\n",
    "any() — хотя бы один элемент истинен  \r\n",
    "ascii() — заменяет не-ASCII символы  \r\n",
    "bin() — двоичное представление  \r\n",
    "bool() — булево значение  \r\n",
    "bytearray() — массив байтов  \r\n",
    "bytes() — объект байтов  \r\n",
    "callable() — можно ли вызвать  \r\n",
    "chr() — символ по Unicode  \r\n",
    "classmethod() — метод класса  \r\n",
    "compile() — компиляция кода  \r\n",
    "complex() — комплексное число  \r\n",
    "delattr() — удаление атрибута  \r\n",
    "dict() — словарь  \r\n",
    "dir() — список атрибутов объекта  \r\n",
    "divmod() — частное и остаток  \r\n",
    "enumerate() — объект перечисления  \r\n",
    "eval() — вычисление выражения  \r\n",
    "exec() — выполнение кода  \r\n",
    "filter() — фильтрация  \r\n",
    "float() — число с плавающей точкой  \r\n",
    "format() — форматирование  \r\n",
    "frozenset() — неизменяемое множество  \r\n",
    "getattr() — получение атрибута  \r\n",
    "globals() — глобальная область видимости  \r\n",
    "hasattr() — проверка атрибута  \r\n",
    "hash() — хеш-значение  \r\n",
    "help() — справка  \r\n",
    "hex() — шестнадцатеричное представление  \r\n",
    "id() — идентификатор объекта  \r\n",
    "input() — ввод  \r\n",
    "int() — целое число  \r\n",
    "isinstance() — проверка типа  \r\n",
    "issubclass() — проверка подкласса  \r\n",
    "iter() — итератор  \r\n",
    "len() — длина  \r\n",
    "list() — список  \r\n",
    "locals() — локальная область видимости  \r\n",
    "map() — применение функции к каждому элементу  \r\n",
    "max() — максимум  \r\n",
    "memoryview() — представление памяти  \r\n",
    "min() — минимум  \r\n",
    "next() — следующий элемент  \r\n",
    "object() — базовый объект  \r\n",
    "oct() — восьмеричное представление  \r\n",
    "open() — открыть файл  \r\n",
    "ord() — Unicode-число символа  \r\n",
    "pow() — возведение в степень  \r\n",
    "print() — вывод  \r\n",
    "property() — управление свойством  \r\n",
    "range() — последовательность чисел  \r\n",
    "repr() — строковое представление  \r\n",
    "reversed() — обратный итератор  \r\n",
    "round() — округление  \r\n",
    "set() — множество  \r\n",
    "setattr() — установка атрибута  \r\n",
    "slice() — срез  \r\n",
    "sorted() — сортировка  \r\n",
    "staticmethod() — статический метод  \r\n",
    "str() — строка  \r\n",
    "sum() — сумма  \r\n",
    "super() — родительский класс  \r\n",
    "tuple() — кортеж  \r\n",
    "type() — тип объекта  \r\n",
    "vars() — атрибуты объекта  \r\n",
    "zip() — объединение итераторов  \r\n"
   ]
  },
  {
   "cell_type": "code",
   "execution_count": null,
   "id": "b7ff5353-3e8d-4167-972f-8b6d3a8efa89",
   "metadata": {},
   "outputs": [],
   "source": []
  }
 ],
 "metadata": {
  "kernelspec": {
   "display_name": "anaconda-2024.02-py310",
   "language": "python",
   "name": "conda-env-anaconda-2024.02-py310-py"
  },
  "language_info": {
   "codemirror_mode": {
    "name": "ipython",
    "version": 3
   },
   "file_extension": ".py",
   "mimetype": "text/x-python",
   "name": "python",
   "nbconvert_exporter": "python",
   "pygments_lexer": "ipython3",
   "version": "3.10.14"
  }
 },
 "nbformat": 4,
 "nbformat_minor": 5
}
